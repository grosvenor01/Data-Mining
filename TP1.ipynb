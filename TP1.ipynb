{
 "cells": [
  {
   "cell_type": "markdown",
   "metadata": {},
   "source": [
    "Generale Imports"
   ]
  },
  {
   "cell_type": "code",
   "execution_count": 3,
   "metadata": {},
   "outputs": [],
   "source": [
    "import pandas as pd\n",
    "from collections import Counter"
   ]
  },
  {
   "cell_type": "markdown",
   "metadata": {},
   "source": [
    "1. Load the dataset & basic infos"
   ]
  },
  {
   "cell_type": "code",
   "execution_count": 4,
   "metadata": {},
   "outputs": [
    {
     "name": "stdout",
     "output_type": "stream",
     "text": [
      "<class 'pandas.core.frame.DataFrame'>\n",
      "RangeIndex: 9009 entries, 0 to 9008\n",
      "Data columns (total 11 columns):\n",
      " #   Column    Non-Null Count  Dtype  \n",
      "---  ------    --------------  -----  \n",
      " 0   ep (ms)   8998 non-null   object \n",
      " 1   Acc_x     9006 non-null   object \n",
      " 2   Acc_y     9007 non-null   object \n",
      " 3   Acc_z     9006 non-null   object \n",
      " 4   Gyro_x    9008 non-null   object \n",
      " 5   Gyro_y    9009 non-null   object \n",
      " 6   Gyro_z    9008 non-null   object \n",
      " 7   ID        9007 non-null   object \n",
      " 8   Label     9009 non-null   object \n",
      " 9   Category  9005 non-null   object \n",
      " 10  Set       9003 non-null   float64\n",
      "dtypes: float64(1), object(10)\n",
      "memory usage: 774.3+ KB\n"
     ]
    }
   ],
   "source": [
    "dataset = pd.read_csv(\"DatasetExos.csv\",encoding=\"UTF8\" , delimiter=\";\")\n",
    "dataset.info()"
   ]
  },
  {
   "cell_type": "markdown",
   "metadata": {},
   "source": [
    "2. Central Tendecies"
   ]
  },
  {
   "cell_type": "code",
   "execution_count": 5,
   "metadata": {},
   "outputs": [
    {
     "name": "stdout",
     "output_type": "stream",
     "text": [
      "Calculated Mean Value :0.04590467712621909\n",
      "Expected Mean Value :0.04590467712621936\n",
      "Calculated Median Value :0.016\n",
      "Expected Median Value :0.016\n",
      "Calculated Mode Value :[(0.078, 23)]\n",
      "Expected Mode Value :0    0.078\n",
      "Name: Acc_x, dtype: float64\n"
     ]
    }
   ],
   "source": [
    "\n",
    "Column  = input(\"Which Input You Want To Use ?\")\n",
    "if Column not in dataset.columns:\n",
    "    print(\"Column Doesn't Exist\")\n",
    "else :\n",
    "    try : \n",
    "        # Moy\n",
    "        col_vals = pd.to_numeric(dataset[Column] , errors = 'coerce').dropna()\n",
    "        print(\"Calculated Mean Value :\" + str(sum(col_vals)/len(col_vals)))\n",
    "        print(\"Expected Mean Value :\" + str(col_vals.mean()))\n",
    "\n",
    "        # Mean\n",
    "        sorted_vals = col_vals.sort_values()\n",
    "        if len(sorted_vals) % 2 == 0:\n",
    "            median = (sorted_vals.iloc[len(sorted_vals) // 2 - 1] + sorted_vals.iloc[len(sorted_vals) // 2]) / 2\n",
    "        else:\n",
    "            median = sorted_vals.iloc[len(sorted_vals) // 2]    \n",
    "        print(\"Calculated Median Value :\" + str(median))\n",
    "        print(\"Expected Median Value :\" + str(col_vals.dropna().median()))\n",
    "\n",
    "        # Mode\n",
    "        print(\"Calculated Mode Value :\" + str(Counter(col_vals).most_common(1)))\n",
    "        print(\"Expected Mode Value :\" + str(col_vals.mode()))\n",
    "    except Exception as e:\n",
    "        print(\"we can't calculate the centrale tendencies of non numerical values\")"
   ]
  },
  {
   "cell_type": "code",
   "execution_count": 4,
   "metadata": {},
   "outputs": [],
   "source": [
    "def median(col_vals):\n",
    "    if len(col_vals) % 2 == 0:\n",
    "        median = (col_vals.iloc[len(col_vals) // 2 - 1] + col_vals.iloc[len(col_vals) // 2]) / 2\n",
    "    else:\n",
    "        median = col_vals.iloc[len(col_vals) // 2] \n",
    "    return median "
   ]
  },
  {
   "cell_type": "markdown",
   "metadata": {},
   "source": [
    "3. Quartiles"
   ]
  },
  {
   "cell_type": "code",
   "execution_count": 11,
   "metadata": {},
   "outputs": [
    {
     "name": "stdout",
     "output_type": "stream",
     "text": [
      "0.0135\n",
      "-0.1115\n",
      "0.016\n",
      "0.1176666666666666\n",
      "-0.0515\n",
      "Expected Quartile0.1176666666666666\n"
     ]
    }
   ],
   "source": [
    "Column =  input(\"Which Input You Want To Use ?\")\n",
    "col_vals = pd.to_numeric(dataset[Column] , errors = 'coerce').dropna().sort_values()\n",
    "mid = len(col_vals)//2\n",
    "Q0 = col_vals[0]\n",
    "Q1=  median(col_vals[:mid])\n",
    "Q3=  median(col_vals)\n",
    "Q4= median(col_vals[mid:])\n",
    "Q5= col_vals[len(col_vals)-1]\n",
    "print(Q0)\n",
    "print(Q1)\n",
    "print(Q3)\n",
    "print(Q4)\n",
    "print(Q5)\n",
    "\n",
    "print(\"Expected Quartile\"+str(col_vals.quantile(0.75)))"
   ]
  },
  {
   "cell_type": "markdown",
   "metadata": {},
   "source": [
    "4. % of missing values"
   ]
  },
  {
   "cell_type": "code",
   "execution_count": 71,
   "metadata": {},
   "outputs": [
    {
     "data": {
      "text/plain": [
       "np.float64(0.2442002442002442)"
      ]
     },
     "execution_count": 71,
     "metadata": {},
     "output_type": "execute_result"
    }
   ],
   "source": [
    "Column  = input(\"Which Input You Want To Use ?\")\n",
    "number  = pd.to_numeric(dataset[Column] ,  errors = 'coerce').isna().sum()\n",
    "nan_percentage = (number / len(dataset)) * 100\n",
    "nan_percentage"
   ]
  },
  {
   "cell_type": "markdown",
   "metadata": {},
   "source": [
    "5. get the unique values"
   ]
  },
  {
   "cell_type": "code",
   "execution_count": 12,
   "metadata": {},
   "outputs": [
    {
     "data": {
      "text/plain": [
       "['raw']"
      ]
     },
     "execution_count": 12,
     "metadata": {},
     "output_type": "execute_result"
    }
   ],
   "source": [
    "uniques = []\n",
    "for i in dataset[\"Label\"]:\n",
    "    count = 0\n",
    "    for j in dataset[\"Label\"]:\n",
    "        if j==i:\n",
    "            count+=1\n",
    "    if count == 1 or count==0:\n",
    "        uniques.append(i)\n",
    "uniques"
   ]
  },
  {
   "cell_type": "code",
   "execution_count": null,
   "metadata": {},
   "outputs": [],
   "source": []
  }
 ],
 "metadata": {
  "kernelspec": {
   "display_name": "ven",
   "language": "python",
   "name": "python3"
  },
  "language_info": {
   "codemirror_mode": {
    "name": "ipython",
    "version": 3
   },
   "file_extension": ".py",
   "mimetype": "text/x-python",
   "name": "python",
   "nbconvert_exporter": "python",
   "pygments_lexer": "ipython3",
   "version": "3.11.9"
  }
 },
 "nbformat": 4,
 "nbformat_minor": 2
}
