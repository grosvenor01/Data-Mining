{
 "cells": [
  {
   "cell_type": "markdown",
   "metadata": {},
   "source": [
    "1. generale imports"
   ]
  },
  {
   "cell_type": "code",
   "execution_count": 1,
   "metadata": {},
   "outputs": [],
   "source": [
    "import pandas as pd \n",
    "import matplotlib.pyplot as plt \n",
    "import numpy as np \n",
    "df = pd.read_csv(r\"DatasetExos2.csv\", delimiter=\";\")"
   ]
  },
  {
   "cell_type": "code",
   "execution_count": 2,
   "metadata": {},
   "outputs": [
    {
     "data": {
      "text/html": [
       "<div>\n",
       "<style scoped>\n",
       "    .dataframe tbody tr th:only-of-type {\n",
       "        vertical-align: middle;\n",
       "    }\n",
       "\n",
       "    .dataframe tbody tr th {\n",
       "        vertical-align: top;\n",
       "    }\n",
       "\n",
       "    .dataframe thead th {\n",
       "        text-align: right;\n",
       "    }\n",
       "</style>\n",
       "<table border=\"1\" class=\"dataframe\">\n",
       "  <thead>\n",
       "    <tr style=\"text-align: right;\">\n",
       "      <th></th>\n",
       "      <th>ep (ms)</th>\n",
       "      <th>Acc_x</th>\n",
       "      <th>Acc_y</th>\n",
       "      <th>Acc_z</th>\n",
       "      <th>Gyro_x</th>\n",
       "      <th>Gyro_y</th>\n",
       "      <th>Gyro_z</th>\n",
       "      <th>ID</th>\n",
       "      <th>Label</th>\n",
       "      <th>Category</th>\n",
       "      <th>Set</th>\n",
       "    </tr>\n",
       "  </thead>\n",
       "  <tbody>\n",
       "    <tr>\n",
       "      <th>0</th>\n",
       "      <td>2019-01-11 15:08:05.200</td>\n",
       "      <td>0.0135</td>\n",
       "      <td>0.977</td>\n",
       "      <td>-0.071</td>\n",
       "      <td>-2.094.366.723</td>\n",
       "      <td>257.720.316</td>\n",
       "      <td>0.9388000000000002</td>\n",
       "      <td>B</td>\n",
       "      <td>bench</td>\n",
       "      <td>heavy</td>\n",
       "      <td>30.0</td>\n",
       "    </tr>\n",
       "    <tr>\n",
       "      <th>1</th>\n",
       "      <td>2019-01-11 15:08:05.400</td>\n",
       "      <td>-0.0014999999999999996</td>\n",
       "      <td>0.9704999999999999</td>\n",
       "      <td>-0.07949999999999999</td>\n",
       "      <td>-16.826</td>\n",
       "      <td>-0.8904</td>\n",
       "      <td>21.708</td>\n",
       "      <td>B</td>\n",
       "      <td>bench</td>\n",
       "      <td>heavy</td>\n",
       "      <td>30.0</td>\n",
       "    </tr>\n",
       "    <tr>\n",
       "      <th>2</th>\n",
       "      <td>2019-01-11 15:08:05.600</td>\n",
       "      <td>0.0013333333333333333</td>\n",
       "      <td>0.9716666666666667</td>\n",
       "      <td>-0.06433333333333334</td>\n",
       "      <td>526.942.212</td>\n",
       "      <td>-0.2559999999999999</td>\n",
       "      <td>-14.146</td>\n",
       "      <td>B</td>\n",
       "      <td>bench</td>\n",
       "      <td>heavy</td>\n",
       "      <td>30.0</td>\n",
       "    </tr>\n",
       "    <tr>\n",
       "      <th>3</th>\n",
       "      <td>2019-01-11 15:08:05.800</td>\n",
       "      <td>-0.024</td>\n",
       "      <td>0.957</td>\n",
       "      <td>-0.0735</td>\n",
       "      <td>8.061</td>\n",
       "      <td>-45.244</td>\n",
       "      <td>-2.073</td>\n",
       "      <td>B</td>\n",
       "      <td>bench</td>\n",
       "      <td>heavy</td>\n",
       "      <td>30.0</td>\n",
       "    </tr>\n",
       "    <tr>\n",
       "      <th>4</th>\n",
       "      <td>2019-01-11 15:08:06.000</td>\n",
       "      <td>-0.027999999999999997</td>\n",
       "      <td>0.9576666666666666</td>\n",
       "      <td>-0.115</td>\n",
       "      <td>2.439</td>\n",
       "      <td>-15.486</td>\n",
       "      <td>-36.098</td>\n",
       "      <td>B</td>\n",
       "      <td>bench</td>\n",
       "      <td>heavy</td>\n",
       "      <td>30.0</td>\n",
       "    </tr>\n",
       "    <tr>\n",
       "      <th>...</th>\n",
       "      <td>...</td>\n",
       "      <td>...</td>\n",
       "      <td>...</td>\n",
       "      <td>...</td>\n",
       "      <td>...</td>\n",
       "      <td>...</td>\n",
       "      <td>...</td>\n",
       "      <td>...</td>\n",
       "      <td>...</td>\n",
       "      <td>...</td>\n",
       "      <td>...</td>\n",
       "    </tr>\n",
       "    <tr>\n",
       "      <th>9004</th>\n",
       "      <td>2019-01-20 17:33:27.000</td>\n",
       "      <td>-0.048</td>\n",
       "      <td>-10.415</td>\n",
       "      <td>-0.0765</td>\n",
       "      <td>14.146</td>\n",
       "      <td>-56.218</td>\n",
       "      <td>0.2926</td>\n",
       "      <td>E</td>\n",
       "      <td>row</td>\n",
       "      <td>medium</td>\n",
       "      <td>40.0</td>\n",
       "    </tr>\n",
       "    <tr>\n",
       "      <th>9005</th>\n",
       "      <td>2019-01-20 17:33:27.200</td>\n",
       "      <td>-0.037</td>\n",
       "      <td>1.151.994.539</td>\n",
       "      <td>-0.05333333333333334</td>\n",
       "      <td>-27.684</td>\n",
       "      <td>-0.5854</td>\n",
       "      <td>-1.530.757.122</td>\n",
       "      <td>E</td>\n",
       "      <td>row</td>\n",
       "      <td>medium</td>\n",
       "      <td>40.0</td>\n",
       "    </tr>\n",
       "    <tr>\n",
       "      <th>9006</th>\n",
       "      <td>2019-01-20 17:33:27.400</td>\n",
       "      <td>-0.06</td>\n",
       "      <td>274.571.263</td>\n",
       "      <td>-0.08199999999999999</td>\n",
       "      <td>-1.846.542.330</td>\n",
       "      <td>-51.342</td>\n",
       "      <td>-0.12200000000000003</td>\n",
       "      <td>E</td>\n",
       "      <td>row</td>\n",
       "      <td>medium</td>\n",
       "      <td>40.0</td>\n",
       "    </tr>\n",
       "    <tr>\n",
       "      <th>9007</th>\n",
       "      <td>2019-01-20 17:33:27.600</td>\n",
       "      <td>-0.03866666666666666</td>\n",
       "      <td>-1.295.977.131</td>\n",
       "      <td>-0.04466666666666667</td>\n",
       "      <td>-0.2318</td>\n",
       "      <td>0.2562</td>\n",
       "      <td>-765.378.561</td>\n",
       "      <td>E</td>\n",
       "      <td>row</td>\n",
       "      <td>medium</td>\n",
       "      <td>40.0</td>\n",
       "    </tr>\n",
       "    <tr>\n",
       "      <th>9008</th>\n",
       "      <td>2019-01-20 17:33:27.800</td>\n",
       "      <td>-0.044</td>\n",
       "      <td>-1.034</td>\n",
       "      <td>-0.059</td>\n",
       "      <td>1.098</td>\n",
       "      <td>-4.024</td>\n",
       "      <td>0.976</td>\n",
       "      <td>E</td>\n",
       "      <td>row</td>\n",
       "      <td>medium</td>\n",
       "      <td>40.0</td>\n",
       "    </tr>\n",
       "  </tbody>\n",
       "</table>\n",
       "<p>9009 rows × 11 columns</p>\n",
       "</div>"
      ],
      "text/plain": [
       "                      ep (ms)                   Acc_x               Acc_y  \\\n",
       "0     2019-01-11 15:08:05.200                  0.0135               0.977   \n",
       "1     2019-01-11 15:08:05.400  -0.0014999999999999996  0.9704999999999999   \n",
       "2     2019-01-11 15:08:05.600   0.0013333333333333333  0.9716666666666667   \n",
       "3     2019-01-11 15:08:05.800                  -0.024               0.957   \n",
       "4     2019-01-11 15:08:06.000   -0.027999999999999997  0.9576666666666666   \n",
       "...                       ...                     ...                 ...   \n",
       "9004  2019-01-20 17:33:27.000                  -0.048             -10.415   \n",
       "9005  2019-01-20 17:33:27.200                  -0.037       1.151.994.539   \n",
       "9006  2019-01-20 17:33:27.400                   -0.06         274.571.263   \n",
       "9007  2019-01-20 17:33:27.600    -0.03866666666666666      -1.295.977.131   \n",
       "9008  2019-01-20 17:33:27.800                  -0.044              -1.034   \n",
       "\n",
       "                     Acc_z          Gyro_x               Gyro_y  \\\n",
       "0                   -0.071  -2.094.366.723          257.720.316   \n",
       "1     -0.07949999999999999         -16.826              -0.8904   \n",
       "2     -0.06433333333333334     526.942.212  -0.2559999999999999   \n",
       "3                  -0.0735           8.061              -45.244   \n",
       "4                   -0.115           2.439              -15.486   \n",
       "...                    ...             ...                  ...   \n",
       "9004               -0.0765          14.146              -56.218   \n",
       "9005  -0.05333333333333334         -27.684              -0.5854   \n",
       "9006  -0.08199999999999999  -1.846.542.330              -51.342   \n",
       "9007  -0.04466666666666667         -0.2318               0.2562   \n",
       "9008                -0.059           1.098               -4.024   \n",
       "\n",
       "                    Gyro_z ID  Label Category   Set  \n",
       "0       0.9388000000000002  B  bench    heavy  30.0  \n",
       "1                   21.708  B  bench    heavy  30.0  \n",
       "2                  -14.146  B  bench    heavy  30.0  \n",
       "3                   -2.073  B  bench    heavy  30.0  \n",
       "4                  -36.098  B  bench    heavy  30.0  \n",
       "...                    ... ..    ...      ...   ...  \n",
       "9004                0.2926  E    row   medium  40.0  \n",
       "9005        -1.530.757.122  E    row   medium  40.0  \n",
       "9006  -0.12200000000000003  E    row   medium  40.0  \n",
       "9007          -765.378.561  E    row   medium  40.0  \n",
       "9008                 0.976  E    row   medium  40.0  \n",
       "\n",
       "[9009 rows x 11 columns]"
      ]
     },
     "execution_count": 2,
     "metadata": {},
     "output_type": "execute_result"
    }
   ],
   "source": [
    "df"
   ]
  },
  {
   "cell_type": "markdown",
   "metadata": {},
   "source": [
    "3. Data formatting"
   ]
  },
  {
   "cell_type": "code",
   "execution_count": 6,
   "metadata": {},
   "outputs": [
    {
     "name": "stdout",
     "output_type": "stream",
     "text": [
      "<class 'pandas.core.frame.DataFrame'>\n",
      "Index: 4012 entries, 1 to 9008\n",
      "Data columns (total 11 columns):\n",
      " #   Column    Non-Null Count  Dtype  \n",
      "---  ------    --------------  -----  \n",
      " 0   ep (ms)   4012 non-null   object \n",
      " 1   Acc_x     4012 non-null   float64\n",
      " 2   Acc_y     4012 non-null   float64\n",
      " 3   Acc_z     4012 non-null   float64\n",
      " 4   Gyro_x    4012 non-null   float64\n",
      " 5   Gyro_y    4012 non-null   float64\n",
      " 6   Gyro_z    4012 non-null   float64\n",
      " 7   ID        4012 non-null   object \n",
      " 8   Label     4012 non-null   object \n",
      " 9   Category  4012 non-null   object \n",
      " 10  Set       4012 non-null   float64\n",
      "dtypes: float64(7), object(4)\n",
      "memory usage: 376.1+ KB\n"
     ]
    },
    {
     "name": "stderr",
     "output_type": "stream",
     "text": [
      "C:\\Users\\abdo7\\AppData\\Local\\Temp\\ipykernel_9976\\2694431648.py:3: SettingWithCopyWarning: \n",
      "A value is trying to be set on a copy of a slice from a DataFrame.\n",
      "Try using .loc[row_indexer,col_indexer] = value instead\n",
      "\n",
      "See the caveats in the documentation: https://pandas.pydata.org/pandas-docs/stable/user_guide/indexing.html#returning-a-view-versus-a-copy\n",
      "  df[i]=pd.to_numeric(df[i],errors=\"coerce\")\n"
     ]
    }
   ],
   "source": [
    "to_numeric = [\"Acc_x\",\"Acc_y\",\"Acc_z\",\"Gyro_x\",\"Gyro_y\",\"Gyro_z\",\"Set\"]\n",
    "for i in to_numeric:\n",
    "    df[i]=pd.to_numeric(df[i],errors=\"coerce\")\n",
    "df= df.dropna()\n",
    "df.info()"
   ]
  },
  {
   "cell_type": "markdown",
   "metadata": {},
   "source": [
    "2. Scatter plot"
   ]
  },
  {
   "cell_type": "code",
   "execution_count": 7,
   "metadata": {},
   "outputs": [
    {
     "data": {
      "image/png": "[encoded data removed]",
      "text/plain": [
       "<Figure size 400x400 with 1 Axes>"
      ]
     },
     "metadata": {},
     "output_type": "display_data"
    }
   ],
   "source": [
    "def scatting(x , y):\n",
    "    plt.figure(figsize=(4, 4))\n",
    "    plt.scatter(df[x], df[y])\n",
    "    plt.show()\n",
    "atr1 , atr2 = input(\"what are the attribute you want to show in a scatter ? (make sure they are contenious)\").split()\n",
    "if atr1 in to_numeric and atr2 in to_numeric : \n",
    "    scatting(atr1 , atr2)\n",
    "else : \n",
    "    print(\"attribute are not continous scatter made for non categorical data\")"
   ]
  },
  {
   "cell_type": "markdown",
   "metadata": {},
   "source": [
    "3. histogramme / bar charts"
   ]
  },
  {
   "cell_type": "code",
   "execution_count": 50,
   "metadata": {},
   "outputs": [
    {
     "data": {
      "image/png": "[encoded data removed]",
      "text/plain": [
       "<Figure size 500x500 with 1 Axes>"
      ]
     },
     "metadata": {},
     "output_type": "display_data"
    }
   ],
   "source": [
    "def histo_bar(attribute):\n",
    "    if attribute in to_numeric:\n",
    "        plt.figure(figsize=(5, 5))\n",
    "        plt.hist(df[attribute] , bins = np.arange(-15 , 15 , 1))\n",
    "        plt.show()\n",
    "    else: \n",
    "        x_pos = df[attribute].unique().tolist()\n",
    "        plt.bar(x=x_pos, height=df[attribute].value_counts() , color=\"orange\")\n",
    "        plt.show()\n",
    "histo_bar(\"Acc_y\")"
   ]
  },
  {
   "cell_type": "markdown",
   "metadata": {},
   "source": [
    "4. box plot without removing outliers"
   ]
  },
  {
   "cell_type": "code",
   "execution_count": 63,
   "metadata": {},
   "outputs": [
    {
     "name": "stdout",
     "output_type": "stream",
     "text": [
      "before removing outlier\n"
     ]
    },
    {
     "data": {
      "image/png": "[encoded data removed]",
      "text/plain": [
       "<Figure size 500x500 with 1 Axes>"
      ]
     },
     "metadata": {},
     "output_type": "display_data"
    },
    {
     "name": "stdout",
     "output_type": "stream",
     "text": [
      "after removing outlier\n"
     ]
    },
    {
     "data": {
      "image/png": "[encoded data removed]",
      "text/plain": [
       "<Figure size 500x500 with 1 Axes>"
      ]
     },
     "metadata": {},
     "output_type": "display_data"
    }
   ],
   "source": [
    "def boxPlot(attribute):\n",
    "    if attribute in to_numeric:\n",
    "        print(\"before removing outlier\")\n",
    "        plt.figure(figsize=(5, 5))\n",
    "        plt.boxplot(df[attribute])\n",
    "        plt.show()\n",
    "        print(\"after removing outlier\")\n",
    "        Q1 = df[attribute].quantile(0.25)\n",
    "        Q3 = df[attribute].quantile(0.75)\n",
    "        IQR = Q3 - Q1\n",
    "        lower_bound = Q1 - 1.5 * IQR\n",
    "        higher_bound = Q3 + 1.5 * IQR\n",
    "        new_df = df[(df[attribute] > lower_bound) & (df[attribute] < higher_bound)]\n",
    "        plt.figure(figsize=(5, 5))\n",
    "        plt.boxplot(new_df[attribute])\n",
    "        plt.show()\n",
    "    else: \n",
    "        print(\"couldn't interprete this type of data (categorical one)\")\n",
    "boxPlot(\"Gyro_z\")"
   ]
  },
  {
   "cell_type": "code",
   "execution_count": null,
   "metadata": {},
   "outputs": [],
   "source": []
  }
 ],
 "metadata": {
  "kernelspec": {
   "display_name": "ven",
   "language": "python",
   "name": "python3"
  },
  "language_info": {
   "codemirror_mode": {
    "name": "ipython",
    "version": 3
   },
   "file_extension": ".py",
   "mimetype": "text/x-python",
   "name": "python",
   "nbconvert_exporter": "python",
   "pygments_lexer": "ipython3",
   "version": "3.11.9"
  }
 },
 "nbformat": 4,
 "nbformat_minor": 2
}
