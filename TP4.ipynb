{
 "cells": [
  {
   "cell_type": "code",
   "execution_count": 16,
   "metadata": {},
   "outputs": [],
   "source": [
    "import pandas as pd \n",
    "import pandas as np \n",
    "import matplotlib.pyplot"
   ]
  },
  {
   "cell_type": "code",
   "execution_count": 17,
   "metadata": {},
   "outputs": [
    {
     "data": {
      "text/plain": [
       "Index(['ep (ms)', 'Acc_x', 'Acc_y', 'Acc_z', 'Gyro_x', 'Gyro_y', 'Gyro_z',\n",
       "       'ID', 'Label', 'Category', 'Set'],\n",
       "      dtype='object')"
      ]
     },
     "execution_count": 17,
     "metadata": {},
     "output_type": "execute_result"
    }
   ],
   "source": [
    "df=pd.read_csv(\"DatasetExos2.csv\" , delimiter=\";\")\n",
    "df.columns"
   ]
  },
  {
   "cell_type": "markdown",
   "metadata": {},
   "source": [
    "1. drop the first 7 columns"
   ]
  },
  {
   "cell_type": "code",
   "execution_count": 18,
   "metadata": {},
   "outputs": [
    {
     "name": "stdout",
     "output_type": "stream",
     "text": [
      "<class 'pandas.core.frame.DataFrame'>\n",
      "RangeIndex: 9009 entries, 0 to 9008\n",
      "Data columns (total 4 columns):\n",
      " #   Column    Non-Null Count  Dtype  \n",
      "---  ------    --------------  -----  \n",
      " 0   ID        9007 non-null   object \n",
      " 1   Label     9009 non-null   object \n",
      " 2   Category  9005 non-null   object \n",
      " 3   Set       9003 non-null   float64\n",
      "dtypes: float64(1), object(3)\n",
      "memory usage: 281.7+ KB\n"
     ]
    }
   ],
   "source": [
    "df = df.drop(columns=df.columns[:7])\n",
    "df.info()"
   ]
  },
  {
   "cell_type": "markdown",
   "metadata": {},
   "source": [
    "1.2 removing the null values "
   ]
  },
  {
   "cell_type": "code",
   "execution_count": 19,
   "metadata": {},
   "outputs": [
    {
     "data": {
      "text/html": [
       "<div>\n",
       "<style scoped>\n",
       "    .dataframe tbody tr th:only-of-type {\n",
       "        vertical-align: middle;\n",
       "    }\n",
       "\n",
       "    .dataframe tbody tr th {\n",
       "        vertical-align: top;\n",
       "    }\n",
       "\n",
       "    .dataframe thead th {\n",
       "        text-align: right;\n",
       "    }\n",
       "</style>\n",
       "<table border=\"1\" class=\"dataframe\">\n",
       "  <thead>\n",
       "    <tr style=\"text-align: right;\">\n",
       "      <th></th>\n",
       "      <th>ID</th>\n",
       "      <th>Label</th>\n",
       "      <th>Category</th>\n",
       "      <th>Set</th>\n",
       "    </tr>\n",
       "  </thead>\n",
       "  <tbody>\n",
       "    <tr>\n",
       "      <th>0</th>\n",
       "      <td>B</td>\n",
       "      <td>bench</td>\n",
       "      <td>heavy</td>\n",
       "      <td>30.0</td>\n",
       "    </tr>\n",
       "    <tr>\n",
       "      <th>1</th>\n",
       "      <td>B</td>\n",
       "      <td>bench</td>\n",
       "      <td>heavy</td>\n",
       "      <td>30.0</td>\n",
       "    </tr>\n",
       "    <tr>\n",
       "      <th>2</th>\n",
       "      <td>B</td>\n",
       "      <td>bench</td>\n",
       "      <td>heavy</td>\n",
       "      <td>30.0</td>\n",
       "    </tr>\n",
       "    <tr>\n",
       "      <th>3</th>\n",
       "      <td>B</td>\n",
       "      <td>bench</td>\n",
       "      <td>heavy</td>\n",
       "      <td>30.0</td>\n",
       "    </tr>\n",
       "    <tr>\n",
       "      <th>4</th>\n",
       "      <td>B</td>\n",
       "      <td>bench</td>\n",
       "      <td>heavy</td>\n",
       "      <td>30.0</td>\n",
       "    </tr>\n",
       "    <tr>\n",
       "      <th>...</th>\n",
       "      <td>...</td>\n",
       "      <td>...</td>\n",
       "      <td>...</td>\n",
       "      <td>...</td>\n",
       "    </tr>\n",
       "    <tr>\n",
       "      <th>9004</th>\n",
       "      <td>E</td>\n",
       "      <td>row</td>\n",
       "      <td>medium</td>\n",
       "      <td>40.0</td>\n",
       "    </tr>\n",
       "    <tr>\n",
       "      <th>9005</th>\n",
       "      <td>E</td>\n",
       "      <td>row</td>\n",
       "      <td>medium</td>\n",
       "      <td>40.0</td>\n",
       "    </tr>\n",
       "    <tr>\n",
       "      <th>9006</th>\n",
       "      <td>E</td>\n",
       "      <td>row</td>\n",
       "      <td>medium</td>\n",
       "      <td>40.0</td>\n",
       "    </tr>\n",
       "    <tr>\n",
       "      <th>9007</th>\n",
       "      <td>E</td>\n",
       "      <td>row</td>\n",
       "      <td>medium</td>\n",
       "      <td>40.0</td>\n",
       "    </tr>\n",
       "    <tr>\n",
       "      <th>9008</th>\n",
       "      <td>E</td>\n",
       "      <td>row</td>\n",
       "      <td>medium</td>\n",
       "      <td>40.0</td>\n",
       "    </tr>\n",
       "  </tbody>\n",
       "</table>\n",
       "<p>8997 rows × 4 columns</p>\n",
       "</div>"
      ],
      "text/plain": [
       "     ID  Label Category   Set\n",
       "0     B  bench    heavy  30.0\n",
       "1     B  bench    heavy  30.0\n",
       "2     B  bench    heavy  30.0\n",
       "3     B  bench    heavy  30.0\n",
       "4     B  bench    heavy  30.0\n",
       "...  ..    ...      ...   ...\n",
       "9004  E    row   medium  40.0\n",
       "9005  E    row   medium  40.0\n",
       "9006  E    row   medium  40.0\n",
       "9007  E    row   medium  40.0\n",
       "9008  E    row   medium  40.0\n",
       "\n",
       "[8997 rows x 4 columns]"
      ]
     },
     "execution_count": 19,
     "metadata": {},
     "output_type": "execute_result"
    }
   ],
   "source": [
    "df = df.dropna()\n",
    "df"
   ]
  },
  {
   "cell_type": "code",
   "execution_count": 20,
   "metadata": {},
   "outputs": [
    {
     "data": {
      "text/plain": [
       "Set\n",
       "51.0      200\n",
       "23.0      200\n",
       "19.0      200\n",
       "1.0       175\n",
       "55.0      174\n",
       "         ... \n",
       "91.0       43\n",
       "8.0        42\n",
       "65.0       42\n",
       "20.0       38\n",
       "2000.0      1\n",
       "Name: count, Length: 92, dtype: int64"
      ]
     },
     "execution_count": 20,
     "metadata": {},
     "output_type": "execute_result"
    }
   ],
   "source": [
    "df = df[df[\"Set\"]>0]\n",
    "df[\"Set\"].value_counts()"
   ]
  },
  {
   "cell_type": "code",
   "execution_count": 21,
   "metadata": {},
   "outputs": [
    {
     "name": "stderr",
     "output_type": "stream",
     "text": [
      "C:\\Users\\abdo7\\AppData\\Local\\Temp\\ipykernel_2788\\1302458868.py:6: SettingWithCopyWarning: \n",
      "A value is trying to be set on a copy of a slice from a DataFrame.\n",
      "Try using .loc[row_indexer,col_indexer] = value instead\n",
      "\n",
      "See the caveats in the documentation: https://pandas.pydata.org/pandas-docs/stable/user_guide/indexing.html#returning-a-view-versus-a-copy\n",
      "  df[\"Set\"] = pd.cut(df[\"Set\"] , intervals , labels=labels)\n"
     ]
    },
    {
     "data": {
      "text/html": [
       "<div>\n",
       "<style scoped>\n",
       "    .dataframe tbody tr th:only-of-type {\n",
       "        vertical-align: middle;\n",
       "    }\n",
       "\n",
       "    .dataframe tbody tr th {\n",
       "        vertical-align: top;\n",
       "    }\n",
       "\n",
       "    .dataframe thead th {\n",
       "        text-align: right;\n",
       "    }\n",
       "</style>\n",
       "<table border=\"1\" class=\"dataframe\">\n",
       "  <thead>\n",
       "    <tr style=\"text-align: right;\">\n",
       "      <th></th>\n",
       "      <th>ID</th>\n",
       "      <th>Label</th>\n",
       "      <th>Category</th>\n",
       "      <th>Set</th>\n",
       "    </tr>\n",
       "  </thead>\n",
       "  <tbody>\n",
       "    <tr>\n",
       "      <th>0</th>\n",
       "      <td>B</td>\n",
       "      <td>bench</td>\n",
       "      <td>heavy</td>\n",
       "      <td>Mid</td>\n",
       "    </tr>\n",
       "    <tr>\n",
       "      <th>1</th>\n",
       "      <td>B</td>\n",
       "      <td>bench</td>\n",
       "      <td>heavy</td>\n",
       "      <td>Mid</td>\n",
       "    </tr>\n",
       "    <tr>\n",
       "      <th>2</th>\n",
       "      <td>B</td>\n",
       "      <td>bench</td>\n",
       "      <td>heavy</td>\n",
       "      <td>Mid</td>\n",
       "    </tr>\n",
       "    <tr>\n",
       "      <th>3</th>\n",
       "      <td>B</td>\n",
       "      <td>bench</td>\n",
       "      <td>heavy</td>\n",
       "      <td>Mid</td>\n",
       "    </tr>\n",
       "    <tr>\n",
       "      <th>4</th>\n",
       "      <td>B</td>\n",
       "      <td>bench</td>\n",
       "      <td>heavy</td>\n",
       "      <td>Mid</td>\n",
       "    </tr>\n",
       "    <tr>\n",
       "      <th>...</th>\n",
       "      <td>...</td>\n",
       "      <td>...</td>\n",
       "      <td>...</td>\n",
       "      <td>...</td>\n",
       "    </tr>\n",
       "    <tr>\n",
       "      <th>9004</th>\n",
       "      <td>E</td>\n",
       "      <td>row</td>\n",
       "      <td>medium</td>\n",
       "      <td>Mid</td>\n",
       "    </tr>\n",
       "    <tr>\n",
       "      <th>9005</th>\n",
       "      <td>E</td>\n",
       "      <td>row</td>\n",
       "      <td>medium</td>\n",
       "      <td>Mid</td>\n",
       "    </tr>\n",
       "    <tr>\n",
       "      <th>9006</th>\n",
       "      <td>E</td>\n",
       "      <td>row</td>\n",
       "      <td>medium</td>\n",
       "      <td>Mid</td>\n",
       "    </tr>\n",
       "    <tr>\n",
       "      <th>9007</th>\n",
       "      <td>E</td>\n",
       "      <td>row</td>\n",
       "      <td>medium</td>\n",
       "      <td>Mid</td>\n",
       "    </tr>\n",
       "    <tr>\n",
       "      <th>9008</th>\n",
       "      <td>E</td>\n",
       "      <td>row</td>\n",
       "      <td>medium</td>\n",
       "      <td>Mid</td>\n",
       "    </tr>\n",
       "  </tbody>\n",
       "</table>\n",
       "<p>8996 rows × 4 columns</p>\n",
       "</div>"
      ],
      "text/plain": [
       "     ID  Label Category  Set\n",
       "0     B  bench    heavy  Mid\n",
       "1     B  bench    heavy  Mid\n",
       "2     B  bench    heavy  Mid\n",
       "3     B  bench    heavy  Mid\n",
       "4     B  bench    heavy  Mid\n",
       "...  ..    ...      ...  ...\n",
       "9004  E    row   medium  Mid\n",
       "9005  E    row   medium  Mid\n",
       "9006  E    row   medium  Mid\n",
       "9007  E    row   medium  Mid\n",
       "9008  E    row   medium  Mid\n",
       "\n",
       "[8996 rows x 4 columns]"
      ]
     },
     "execution_count": 21,
     "metadata": {},
     "output_type": "execute_result"
    }
   ],
   "source": [
    "Q1 = df[\"Set\"].quantile(0.25)\n",
    "Q3 = df[\"Set\"].quantile(0.75)\n",
    "\n",
    "intervals = [min(df[\"Set\"]) , Q1 , Q3 , max(df[\"Set\"])]\n",
    "labels = [\"Low\" , \"Mid\" , \"High\"]\n",
    "df[\"Set\"] = pd.cut(df[\"Set\"] , intervals , labels=labels)\n",
    "df"
   ]
  },
  {
   "cell_type": "markdown",
   "metadata": {},
   "source": [
    "2. transaction are the rows for example : \n",
    "{B , bench , heavy , mid}\n",
    "and the items are the values of each column in one item Set :"
   ]
  },
  {
   "cell_type": "code",
   "execution_count": 22,
   "metadata": {},
   "outputs": [
    {
     "name": "stdout",
     "output_type": "stream",
     "text": [
      "['B', 'A', 'E', 'C', 'D', 'Z', 'bench', 'ohp', 'squat', 'dead', 'row', 'rest', 'raw', 'heavy', 'medium', 'sitting', 'standing', 'Mid', 'High', 'Low', nan]\n",
      "item length : 21\n",
      "transaction number : 8996\n"
     ]
    }
   ],
   "source": [
    "itemset =[]\n",
    "for i in df.columns :\n",
    "    for j in df[i].unique():\n",
    "        itemset.append(j)\n",
    "print(itemset)\n",
    "\n",
    "print(\"item length : \"+ str(len(itemset)))\n",
    "print(\"transaction number : \"+ str(len(df)))"
   ]
  },
  {
   "cell_type": "markdown",
   "metadata": {},
   "source": [
    "4. Build DatasetExos_2"
   ]
  },
  {
   "cell_type": "code",
   "execution_count": 23,
   "metadata": {},
   "outputs": [
    {
     "data": {
      "text/plain": [
       "Set\n",
       "Mid     4411\n",
       "Low     2245\n",
       "High    2165\n",
       "Name: count, dtype: int64"
      ]
     },
     "execution_count": 23,
     "metadata": {},
     "output_type": "execute_result"
    }
   ],
   "source": [
    "df[\"Set\"].value_counts()"
   ]
  },
  {
   "cell_type": "code",
   "execution_count": 24,
   "metadata": {},
   "outputs": [],
   "source": [
    "\n",
    "df.to_csv(\"ExoDataset_2.csv\")"
   ]
  },
  {
   "cell_type": "markdown",
   "metadata": {},
   "source": [
    "# PART 2 "
   ]
  },
  {
   "cell_type": "code",
   "execution_count": 25,
   "metadata": {},
   "outputs": [],
   "source": [
    "def condidat_Gen(k , itemSet=None):\n",
    "    if k==1:\n",
    "        new_itemset = itemset\n",
    "    else :\n",
    "        new_itemset =[]\n",
    "        for i in range(len(itemSet)-1):\n",
    "            for j in range(i+1 , len(itemSet)): \n",
    "                if str(itemSet[i]) != \"nan\" and str(itemSet[j]) !=\"nan\":\n",
    "                    if isinstance(itemSet[i]  , list ): \n",
    "                        new_itemset.append(list(set(itemSet[i]) | set(itemSet[j])))\n",
    "                    else :\n",
    "                        new_itemset.append([itemSet[i],itemSet[j]])\n",
    "    return new_itemset"
   ]
  },
  {
   "cell_type": "code",
   "execution_count": 26,
   "metadata": {},
   "outputs": [],
   "source": [
    "def compute_Support(df , itemSet):\n",
    "    condidat_support = {}\n",
    "    # when we have a list of lists means that we're in diffrent gen and not the 1st one \n",
    "    if not isinstance(itemSet[0] , list) : \n",
    "        for i in itemSet:\n",
    "            if i in df[\"ID\"].unique():\n",
    "                new_df = df[df[\"ID\"]==i]\n",
    "\n",
    "            elif i in df[\"Label\"].unique():\n",
    "                new_df = df[df[\"Label\"]==i]\n",
    "\n",
    "            elif i in df[\"Category\"].unique():\n",
    "                new_df = df[df[\"Category\"]==i]\n",
    "\n",
    "            elif i in df[\"Set\"].unique():\n",
    "                new_df = df[df[\"Set\"]==i]\n",
    "            condidat_support[i]=len(new_df)/len(df)\n",
    "    else : \n",
    "        for j in itemSet:\n",
    "            new_df = df.copy()\n",
    "            for i in j : \n",
    "                if i in df[\"ID\"].unique():\n",
    "                    new_df = new_df[new_df[\"ID\"]==i]\n",
    "\n",
    "                elif i in df[\"Label\"].unique():\n",
    "                    new_df = new_df[new_df[\"Label\"]==i]\n",
    "\n",
    "                elif i in df[\"Category\"].unique():\n",
    "                    new_df = new_df[new_df[\"Category\"]==i]\n",
    "\n",
    "                elif i in df[\"Set\"].unique():\n",
    "                    new_df = new_df[new_df[\"Set\"]==i]\n",
    "            condidat_support[str(j)]=len(new_df)/len(df)\n",
    "    return condidat_support"
   ]
  },
  {
   "cell_type": "code",
   "execution_count": 27,
   "metadata": {},
   "outputs": [],
   "source": [
    "import ast\n",
    "def remove_minSup(minSup , Support , itemset):\n",
    "    for key in Support : \n",
    "        if Support[key] < minSup : \n",
    "            try : \n",
    "                itemset.remove(ast.literal_eval(key))\n",
    "            except Exception as e:\n",
    "                itemset.remove(key)\n",
    "    return itemset"
   ]
  },
  {
   "cell_type": "code",
   "execution_count": 28,
   "metadata": {},
   "outputs": [
    {
     "name": "stdout",
     "output_type": "stream",
     "text": [
      "{'B': 0.09326367274344154, 'A': 0.33159181858603826, 'E': 0.29390840373499333, 'C': 0.16462872387727878, 'D': 0.11649622054246332, 'Z': 0.00011116051578479324, 'bench': 0.18508225878168075, 'ohp': 0.1857492218763895, 'squat': 0.17874610938194754, 'dead': 0.17018674966651845, 'row': 0.15673632725655848, 'rest': 0.1233881725211205, 'raw': 0.00011116051578479324, 'heavy': 0.3838372610048911, 'medium': 0.49277456647398843, 'sitting': 0.056691863050244554, 'standing': 0.06669630947087594, 'Mid': 0.490329035126723, 'High': 0.24066251667407737, 'Low': 0.24955535793686082, nan: 0.0}\n"
     ]
    }
   ],
   "source": [
    "min_sup =0.13\n",
    "itemCk = condidat_Gen(1)\n",
    "SupportCk = compute_Support(df , itemCk)\n",
    "Lk = remove_minSup(min_sup , SupportCk , itemCk)\n",
    "print(SupportCk)"
   ]
  },
  {
   "cell_type": "code",
   "execution_count": 29,
   "metadata": {},
   "outputs": [
    {
     "data": {
      "text/plain": [
       "{'B': 0.09326367274344154,\n",
       " 'A': 0.33159181858603826,\n",
       " 'E': 0.29390840373499333,\n",
       " 'C': 0.16462872387727878,\n",
       " 'D': 0.11649622054246332,\n",
       " 'Z': 0.00011116051578479324,\n",
       " 'bench': 0.18508225878168075,\n",
       " 'ohp': 0.1857492218763895,\n",
       " 'squat': 0.17874610938194754,\n",
       " 'dead': 0.17018674966651845,\n",
       " 'row': 0.15673632725655848,\n",
       " 'rest': 0.1233881725211205,\n",
       " 'raw': 0.00011116051578479324,\n",
       " 'heavy': 0.3838372610048911,\n",
       " 'medium': 0.49277456647398843,\n",
       " 'sitting': 0.056691863050244554,\n",
       " 'standing': 0.06669630947087594,\n",
       " 'Mid': 0.490329035126723,\n",
       " 'High': 0.24066251667407737,\n",
       " 'Low': 0.24955535793686082,\n",
       " nan: 0.0,\n",
       " \"['A', 'E']\": 0.0,\n",
       " \"['A', 'C']\": 0.0,\n",
       " \"['A', 'bench']\": 0.031013783903957315,\n",
       " \"['A', 'ohp']\": 0.0805913739439751,\n",
       " \"['A', 'squat']\": 0.06936416184971098,\n",
       " \"['A', 'dead']\": 0.05935971542907959,\n",
       " \"['A', 'row']\": 0.009004001778568253,\n",
       " \"['A', 'heavy']\": 0.12894619831036017,\n",
       " \"['A', 'medium']\": 0.12038683859493109,\n",
       " \"['A', 'Mid']\": 0.1526233881725211,\n",
       " \"['A', 'High']\": 0.07703423743886172,\n",
       " \"['A', 'Low']\": 0.10182303245887062,\n",
       " \"['E', 'C']\": 0.0,\n",
       " \"['E', 'bench']\": 0.07092040907069809,\n",
       " \"['E', 'ohp']\": 0.02434415295686972,\n",
       " \"['E', 'squat']\": 0.022343263672743443,\n",
       " \"['E', 'dead']\": 0.05935971542907959,\n",
       " \"['E', 'row']\": 0.07592263228101379,\n",
       " \"['E', 'heavy']\": 0.10560248999555358,\n",
       " \"['E', 'medium']\": 0.14728768341485104,\n",
       " \"['E', 'Mid']\": 0.1595153401511783,\n",
       " \"['E', 'High']\": 0.06036016007114273,\n",
       " \"['E', 'Low']\": 0.05469097376611828,\n",
       " \"['C', 'bench']\": 0.02578923966207203,\n",
       " \"['C', 'ohp']\": 0.01889728768341485,\n",
       " \"['C', 'squat']\": 0.030680302356602934,\n",
       " \"['C', 'dead']\": 0.05146731880835927,\n",
       " \"['C', 'row']\": 0.0377945753668297,\n",
       " \"['C', 'heavy']\": 0.09559804357492219,\n",
       " \"['C', 'medium']\": 0.06903068030235661,\n",
       " \"['C', 'Mid']\": 0.07725655847043131,\n",
       " \"['C', 'High']\": 0.05246776345042241,\n",
       " \"['C', 'Low']\": 0.03490440195642508,\n",
       " \"['bench', 'ohp']\": 0.0,\n",
       " \"['bench', 'squat']\": 0.0,\n",
       " \"['bench', 'dead']\": 0.0,\n",
       " \"['bench', 'row']\": 0.0,\n",
       " \"['bench', 'heavy']\": 0.1052690084481992,\n",
       " \"['bench', 'medium']\": 0.07981325033348155,\n",
       " \"['bench', 'Mid']\": 0.09815473543797243,\n",
       " \"['bench', 'High']\": 0.07092040907069809,\n",
       " \"['bench', 'Low']\": 0.01600711427301023,\n",
       " \"['ohp', 'squat']\": 0.0,\n",
       " \"['ohp', 'dead']\": 0.0,\n",
       " \"['ohp', 'row']\": 0.0,\n",
       " \"['ohp', 'heavy']\": 0.1186082703423744,\n",
       " \"['ohp', 'medium']\": 0.06714095153401511,\n",
       " \"['ohp', 'Mid']\": 0.10538016896398399,\n",
       " \"['ohp', 'High']\": 0.06480658070253446,\n",
       " \"['ohp', 'Low']\": 0.015451311694086261,\n",
       " \"['squat', 'dead']\": 0.0,\n",
       " \"['squat', 'row']\": 0.0,\n",
       " \"['squat', 'heavy']\": 0.0938194753223655,\n",
       " \"['squat', 'medium']\": 0.08492663405958203,\n",
       " \"['squat', 'Mid']\": 0.06380613606047132,\n",
       " \"['squat', 'High']\": 0.023121387283236993,\n",
       " \"['squat', 'Low']\": 0.09181858603823921,\n",
       " \"['dead', 'row']\": 0.0,\n",
       " \"['dead', 'heavy']\": 0.018008003557136505,\n",
       " \"['dead', 'medium']\": 0.15217874610938195,\n",
       " \"['dead', 'Mid']\": 0.075811471765229,\n",
       " \"['dead', 'High']\": 0.03423743886171632,\n",
       " \"['dead', 'Low']\": 0.04079590929301912,\n",
       " \"['row', 'heavy']\": 0.048132503334815474,\n",
       " \"['row', 'medium']\": 0.108603823921743,\n",
       " \"['row', 'Mid']\": 0.10593597154290796,\n",
       " \"['row', 'High']\": 0.009782125389061804,\n",
       " \"['row', 'Low']\": 0.041018230324588706,\n",
       " \"['heavy', 'medium']\": 0.0,\n",
       " \"['heavy', 'Mid']\": 0.15995998221431748,\n",
       " \"['heavy', 'High']\": 0.12483325922632281,\n",
       " \"['heavy', 'Low']\": 0.09893285904846598,\n",
       " \"['medium', 'Mid']\": 0.289239662072032,\n",
       " \"['medium', 'High']\": 0.07803468208092486,\n",
       " \"['medium', 'Low']\": 0.10615829257447755,\n",
       " \"['Mid', 'High']\": 0.0,\n",
       " \"['Mid', 'Low']\": 0.0,\n",
       " \"['High', 'Low']\": 0.0,\n",
       " \"['Mid', 'E', 'medium', 'A']\": 0.0,\n",
       " \"['Mid', 'E', 'A']\": 0.0,\n",
       " \"['Mid', 'medium', 'A', 'dead']\": 0.019341929746554024,\n",
       " \"['Mid', 'A', 'heavy']\": 0.05646954201867497,\n",
       " \"['Mid', 'medium', 'A']\": 0.05502445531347266,\n",
       " \"['medium', 'E', 'Mid']\": 0.12794575366829702,\n",
       " \"['medium', 'E', 'dead']\": 0.050355713650511336,\n",
       " \"['medium', 'E', 'heavy', 'Mid']\": 0.0,\n",
       " \"['Mid', 'E', 'medium', 'dead']\": 0.031013783903957315,\n",
       " \"['Mid', 'E', 'heavy']\": 0.03156958648288128,\n",
       " \"['Mid', 'E', 'medium']\": 0.12794575366829702,\n",
       " \"['medium', 'dead', 'heavy', 'Mid']\": 0.0,\n",
       " \"['medium', 'dead', 'Mid']\": 0.06680746998666073,\n",
       " \"['Mid', 'medium', 'heavy']\": 0.0}"
      ]
     },
     "execution_count": 29,
     "metadata": {},
     "output_type": "execute_result"
    }
   ],
   "source": [
    "result =Lk\n",
    "while(len(Lk)>1):\n",
    "    itemCk = condidat_Gen(2 , Lk)\n",
    "    tempSupport = compute_Support(df , itemCk)\n",
    "    SupportCk = SupportCk | tempSupport \n",
    "    Lk = remove_minSup(min_sup , tempSupport , itemCk)\n",
    "    result +=Lk\n",
    "\n",
    "result\n",
    "SupportCk "
   ]
  },
  {
   "cell_type": "code",
   "execution_count": 30,
   "metadata": {},
   "outputs": [
    {
     "name": "stdout",
     "output_type": "stream",
     "text": [
      "['A'] -> ['Mid']\n",
      "['Mid'] -> ['A']\n",
      "['E'] -> ['medium']\n",
      "['medium'] -> ['E']\n",
      "['E'] -> ['Mid']\n",
      "['Mid'] -> ['E']\n",
      "['dead'] -> ['medium']\n",
      "['medium'] -> ['dead']\n",
      "['heavy'] -> ['Mid']\n",
      "['Mid'] -> ['heavy']\n",
      "['medium'] -> ['Mid']\n",
      "['Mid'] -> ['medium']\n",
      "['medium'] -> ['E', 'Mid']\n",
      "['E'] -> ['Mid', 'medium']\n",
      "['Mid'] -> ['E', 'medium']\n",
      "['E', 'medium'] -> ['Mid']\n",
      "['Mid', 'medium'] -> ['E']\n",
      "['E', 'Mid'] -> ['medium']\n"
     ]
    }
   ],
   "source": [
    "import itertools\n",
    "def generate_all_possible_rules(frequent_itemsets):\n",
    "    all_rules = []\n",
    "    for itemset in frequent_itemsets:\n",
    "        if len(itemset) > 1:\n",
    "            for i in range(1, len(itemset)):\n",
    "                for antecedent in itertools.combinations(itemset, i):\n",
    "                    consequent = list(sorted(set(itemset) - set(antecedent)))\n",
    "                    antecedent = list(sorted(antecedent))\n",
    "                    all_rules.append((antecedent, consequent))\n",
    "    return all_rules\n",
    "\n",
    "unique_list = []\n",
    "for item in result:\n",
    "    if item not in unique_list and isinstance(item , list):\n",
    "        unique_list.append(item)\n",
    "all_rules = generate_all_possible_rules(unique_list)\n",
    "\n",
    "for antecedent, consequent in all_rules:\n",
    "    print(f\"{antecedent} -> {consequent}\")"
   ]
  },
  {
   "cell_type": "code",
   "execution_count": null,
   "metadata": {},
   "outputs": [
    {
     "name": "stdout",
     "output_type": "stream",
     "text": [
      "(['A'], ['Mid'])       confidence : 0.4602748910492792\n",
      "(['Mid'], ['A'])       confidence : 0.31126728632963047\n",
      "(['E'], ['medium'])       confidence : 0.5011346444780636\n",
      "(['medium'], ['E'])       confidence : 0.29889465373336344\n",
      "(['E'], ['Mid'])       confidence : 0.5427382753403933\n",
      "(['Mid'], ['E'])       confidence : 0.3253230559963727\n",
      "(['dead'], ['medium'])       confidence : 0.8941868060091444\n",
      "(['medium'], ['dead'])       confidence : 0.3088202120460185\n",
      "(['heavy'], ['Mid'])       confidence : 0.41673906747755574\n",
      "(['Mid'], ['heavy'])       confidence : 0.32622987984583995\n",
      "(['medium'], ['Mid'])       confidence : 0.5869614256711031\n",
      "(['Mid'], ['medium'])       confidence : 0.5898889140784402\n",
      "(['medium'], ['E', 'Mid'])       confidence : 0.2596435822242274\n",
      "(['E'], ['Mid', 'medium'])       confidence : 0.43532526475037825\n",
      "(['Mid'], ['E', 'medium'])       confidence : 0.2609385626841986\n",
      "(['E', 'medium'], ['Mid'])       confidence : 0.8686792452830189\n",
      "(['Mid', 'medium'], ['E'])       confidence : 0.8020905923344949\n"
     ]
    }
   ],
   "source": [
    "import ast \n",
    "def concatenate_and_remove_duplicates(list1, list2):\n",
    "    seen = set()\n",
    "    result = []\n",
    "    for item in list1 + list2:\n",
    "        if item not in seen:\n",
    "            seen.add(item)\n",
    "            result.append(item)\n",
    "    return result\n",
    "\n",
    "Supports = []\n",
    "for antecedent, consequent in all_rules:\n",
    "    combined_list = concatenate_and_remove_duplicates(antecedent, consequent)\n",
    "    for i in SupportCk :\n",
    "        try : \n",
    "            if set(combined_list) == set(ast.literal_eval(i)):\n",
    "                if len(antecedent)==1:\n",
    "                    value = SupportCk[str(antecedent[0])]\n",
    "                else :\n",
    "                    value = SupportCk[str(antecedent)]\n",
    "                Supports.append(SupportCk[i]/value)\n",
    "                break\n",
    "        except Exception as e:\n",
    "            pass\n",
    "\n",
    "for i in range(len(all_rules)): \n",
    "    try : \n",
    "        print(f\"{all_rules[i]}       confidence : {Supports[i]}\")\n",
    "    except Exception as e : \n",
    "        pass\n",
    "    "
   ]
  }
 ],
 "metadata": {
  "kernelspec": {
   "display_name": "ven",
   "language": "python",
   "name": "python3"
  },
  "language_info": {
   "codemirror_mode": {
    "name": "ipython",
    "version": 3
   },
   "file_extension": ".py",
   "mimetype": "text/x-python",
   "name": "python",
   "nbconvert_exporter": "python",
   "pygments_lexer": "ipython3",
   "version": "3.11.9"
  }
 },
 "nbformat": 4,
 "nbformat_minor": 2
}
