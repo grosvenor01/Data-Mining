{
 "cells": [
  {
   "cell_type": "code",
   "execution_count": 1,
   "metadata": {},
   "outputs": [],
   "source": [
    "import pandas as pd \n",
    "import pandas as np \n",
    "import matplotlib.pyplot"
   ]
  },
  {
   "cell_type": "code",
   "execution_count": 2,
   "metadata": {},
   "outputs": [
    {
     "data": {
      "text/plain": [
       "Index(['ep (ms)', 'Acc_x', 'Acc_y', 'Acc_z', 'Gyro_x', 'Gyro_y', 'Gyro_z',\n",
       "       'ID', 'Label', 'Category', 'Set'],\n",
       "      dtype='object')"
      ]
     },
     "execution_count": 2,
     "metadata": {},
     "output_type": "execute_result"
    }
   ],
   "source": [
    "df=pd.read_csv(\"DatasetExos2.csv\" , delimiter=\";\")\n",
    "df.columns"
   ]
  },
  {
   "cell_type": "markdown",
   "metadata": {},
   "source": [
    "1. drop the first 7 columns"
   ]
  },
  {
   "cell_type": "code",
   "execution_count": 3,
   "metadata": {},
   "outputs": [
    {
     "name": "stdout",
     "output_type": "stream",
     "text": [
      "<class 'pandas.core.frame.DataFrame'>\n",
      "RangeIndex: 9009 entries, 0 to 9008\n",
      "Data columns (total 4 columns):\n",
      " #   Column    Non-Null Count  Dtype  \n",
      "---  ------    --------------  -----  \n",
      " 0   ID        9007 non-null   object \n",
      " 1   Label     9009 non-null   object \n",
      " 2   Category  9005 non-null   object \n",
      " 3   Set       9003 non-null   float64\n",
      "dtypes: float64(1), object(3)\n",
      "memory usage: 281.7+ KB\n"
     ]
    }
   ],
   "source": [
    "df = df.drop(columns=df.columns[:7])\n",
    "df.info()"
   ]
  },
  {
   "cell_type": "markdown",
   "metadata": {},
   "source": [
    "1.2 removing the null values "
   ]
  },
  {
   "cell_type": "code",
   "execution_count": 4,
   "metadata": {},
   "outputs": [
    {
     "data": {
      "text/html": [
       "<div>\n",
       "<style scoped>\n",
       "    .dataframe tbody tr th:only-of-type {\n",
       "        vertical-align: middle;\n",
       "    }\n",
       "\n",
       "    .dataframe tbody tr th {\n",
       "        vertical-align: top;\n",
       "    }\n",
       "\n",
       "    .dataframe thead th {\n",
       "        text-align: right;\n",
       "    }\n",
       "</style>\n",
       "<table border=\"1\" class=\"dataframe\">\n",
       "  <thead>\n",
       "    <tr style=\"text-align: right;\">\n",
       "      <th></th>\n",
       "      <th>ID</th>\n",
       "      <th>Label</th>\n",
       "      <th>Category</th>\n",
       "      <th>Set</th>\n",
       "    </tr>\n",
       "  </thead>\n",
       "  <tbody>\n",
       "    <tr>\n",
       "      <th>0</th>\n",
       "      <td>B</td>\n",
       "      <td>bench</td>\n",
       "      <td>heavy</td>\n",
       "      <td>30.0</td>\n",
       "    </tr>\n",
       "    <tr>\n",
       "      <th>1</th>\n",
       "      <td>B</td>\n",
       "      <td>bench</td>\n",
       "      <td>heavy</td>\n",
       "      <td>30.0</td>\n",
       "    </tr>\n",
       "    <tr>\n",
       "      <th>2</th>\n",
       "      <td>B</td>\n",
       "      <td>bench</td>\n",
       "      <td>heavy</td>\n",
       "      <td>30.0</td>\n",
       "    </tr>\n",
       "    <tr>\n",
       "      <th>3</th>\n",
       "      <td>B</td>\n",
       "      <td>bench</td>\n",
       "      <td>heavy</td>\n",
       "      <td>30.0</td>\n",
       "    </tr>\n",
       "    <tr>\n",
       "      <th>4</th>\n",
       "      <td>B</td>\n",
       "      <td>bench</td>\n",
       "      <td>heavy</td>\n",
       "      <td>30.0</td>\n",
       "    </tr>\n",
       "    <tr>\n",
       "      <th>...</th>\n",
       "      <td>...</td>\n",
       "      <td>...</td>\n",
       "      <td>...</td>\n",
       "      <td>...</td>\n",
       "    </tr>\n",
       "    <tr>\n",
       "      <th>9004</th>\n",
       "      <td>E</td>\n",
       "      <td>row</td>\n",
       "      <td>medium</td>\n",
       "      <td>40.0</td>\n",
       "    </tr>\n",
       "    <tr>\n",
       "      <th>9005</th>\n",
       "      <td>E</td>\n",
       "      <td>row</td>\n",
       "      <td>medium</td>\n",
       "      <td>40.0</td>\n",
       "    </tr>\n",
       "    <tr>\n",
       "      <th>9006</th>\n",
       "      <td>E</td>\n",
       "      <td>row</td>\n",
       "      <td>medium</td>\n",
       "      <td>40.0</td>\n",
       "    </tr>\n",
       "    <tr>\n",
       "      <th>9007</th>\n",
       "      <td>E</td>\n",
       "      <td>row</td>\n",
       "      <td>medium</td>\n",
       "      <td>40.0</td>\n",
       "    </tr>\n",
       "    <tr>\n",
       "      <th>9008</th>\n",
       "      <td>E</td>\n",
       "      <td>row</td>\n",
       "      <td>medium</td>\n",
       "      <td>40.0</td>\n",
       "    </tr>\n",
       "  </tbody>\n",
       "</table>\n",
       "<p>8997 rows × 4 columns</p>\n",
       "</div>"
      ],
      "text/plain": [
       "     ID  Label Category   Set\n",
       "0     B  bench    heavy  30.0\n",
       "1     B  bench    heavy  30.0\n",
       "2     B  bench    heavy  30.0\n",
       "3     B  bench    heavy  30.0\n",
       "4     B  bench    heavy  30.0\n",
       "...  ..    ...      ...   ...\n",
       "9004  E    row   medium  40.0\n",
       "9005  E    row   medium  40.0\n",
       "9006  E    row   medium  40.0\n",
       "9007  E    row   medium  40.0\n",
       "9008  E    row   medium  40.0\n",
       "\n",
       "[8997 rows x 4 columns]"
      ]
     },
     "execution_count": 4,
     "metadata": {},
     "output_type": "execute_result"
    }
   ],
   "source": [
    "df = df.dropna()\n",
    "df"
   ]
  },
  {
   "cell_type": "code",
   "execution_count": 5,
   "metadata": {},
   "outputs": [
    {
     "data": {
      "text/plain": [
       "Set\n",
       "51.0      200\n",
       "23.0      200\n",
       "19.0      200\n",
       "1.0       175\n",
       "55.0      174\n",
       "         ... \n",
       "91.0       43\n",
       "8.0        42\n",
       "65.0       42\n",
       "20.0       38\n",
       "2000.0      1\n",
       "Name: count, Length: 92, dtype: int64"
      ]
     },
     "execution_count": 5,
     "metadata": {},
     "output_type": "execute_result"
    }
   ],
   "source": [
    "df = df[df[\"Set\"]>0]\n",
    "df[\"Set\"].value_counts()"
   ]
  },
  {
   "cell_type": "code",
   "execution_count": 6,
   "metadata": {},
   "outputs": [
    {
     "name": "stderr",
     "output_type": "stream",
     "text": [
      "C:\\Users\\abdo7\\AppData\\Local\\Temp\\ipykernel_8916\\1302458868.py:6: SettingWithCopyWarning: \n",
      "A value is trying to be set on a copy of a slice from a DataFrame.\n",
      "Try using .loc[row_indexer,col_indexer] = value instead\n",
      "\n",
      "See the caveats in the documentation: https://pandas.pydata.org/pandas-docs/stable/user_guide/indexing.html#returning-a-view-versus-a-copy\n",
      "  df[\"Set\"] = pd.cut(df[\"Set\"] , intervals , labels=labels)\n"
     ]
    },
    {
     "data": {
      "text/html": [
       "<div>\n",
       "<style scoped>\n",
       "    .dataframe tbody tr th:only-of-type {\n",
       "        vertical-align: middle;\n",
       "    }\n",
       "\n",
       "    .dataframe tbody tr th {\n",
       "        vertical-align: top;\n",
       "    }\n",
       "\n",
       "    .dataframe thead th {\n",
       "        text-align: right;\n",
       "    }\n",
       "</style>\n",
       "<table border=\"1\" class=\"dataframe\">\n",
       "  <thead>\n",
       "    <tr style=\"text-align: right;\">\n",
       "      <th></th>\n",
       "      <th>ID</th>\n",
       "      <th>Label</th>\n",
       "      <th>Category</th>\n",
       "      <th>Set</th>\n",
       "    </tr>\n",
       "  </thead>\n",
       "  <tbody>\n",
       "    <tr>\n",
       "      <th>0</th>\n",
       "      <td>B</td>\n",
       "      <td>bench</td>\n",
       "      <td>heavy</td>\n",
       "      <td>Mid</td>\n",
       "    </tr>\n",
       "    <tr>\n",
       "      <th>1</th>\n",
       "      <td>B</td>\n",
       "      <td>bench</td>\n",
       "      <td>heavy</td>\n",
       "      <td>Mid</td>\n",
       "    </tr>\n",
       "    <tr>\n",
       "      <th>2</th>\n",
       "      <td>B</td>\n",
       "      <td>bench</td>\n",
       "      <td>heavy</td>\n",
       "      <td>Mid</td>\n",
       "    </tr>\n",
       "    <tr>\n",
       "      <th>3</th>\n",
       "      <td>B</td>\n",
       "      <td>bench</td>\n",
       "      <td>heavy</td>\n",
       "      <td>Mid</td>\n",
       "    </tr>\n",
       "    <tr>\n",
       "      <th>4</th>\n",
       "      <td>B</td>\n",
       "      <td>bench</td>\n",
       "      <td>heavy</td>\n",
       "      <td>Mid</td>\n",
       "    </tr>\n",
       "    <tr>\n",
       "      <th>...</th>\n",
       "      <td>...</td>\n",
       "      <td>...</td>\n",
       "      <td>...</td>\n",
       "      <td>...</td>\n",
       "    </tr>\n",
       "    <tr>\n",
       "      <th>9004</th>\n",
       "      <td>E</td>\n",
       "      <td>row</td>\n",
       "      <td>medium</td>\n",
       "      <td>Mid</td>\n",
       "    </tr>\n",
       "    <tr>\n",
       "      <th>9005</th>\n",
       "      <td>E</td>\n",
       "      <td>row</td>\n",
       "      <td>medium</td>\n",
       "      <td>Mid</td>\n",
       "    </tr>\n",
       "    <tr>\n",
       "      <th>9006</th>\n",
       "      <td>E</td>\n",
       "      <td>row</td>\n",
       "      <td>medium</td>\n",
       "      <td>Mid</td>\n",
       "    </tr>\n",
       "    <tr>\n",
       "      <th>9007</th>\n",
       "      <td>E</td>\n",
       "      <td>row</td>\n",
       "      <td>medium</td>\n",
       "      <td>Mid</td>\n",
       "    </tr>\n",
       "    <tr>\n",
       "      <th>9008</th>\n",
       "      <td>E</td>\n",
       "      <td>row</td>\n",
       "      <td>medium</td>\n",
       "      <td>Mid</td>\n",
       "    </tr>\n",
       "  </tbody>\n",
       "</table>\n",
       "<p>8996 rows × 4 columns</p>\n",
       "</div>"
      ],
      "text/plain": [
       "     ID  Label Category  Set\n",
       "0     B  bench    heavy  Mid\n",
       "1     B  bench    heavy  Mid\n",
       "2     B  bench    heavy  Mid\n",
       "3     B  bench    heavy  Mid\n",
       "4     B  bench    heavy  Mid\n",
       "...  ..    ...      ...  ...\n",
       "9004  E    row   medium  Mid\n",
       "9005  E    row   medium  Mid\n",
       "9006  E    row   medium  Mid\n",
       "9007  E    row   medium  Mid\n",
       "9008  E    row   medium  Mid\n",
       "\n",
       "[8996 rows x 4 columns]"
      ]
     },
     "execution_count": 6,
     "metadata": {},
     "output_type": "execute_result"
    }
   ],
   "source": [
    "Q1 = df[\"Set\"].quantile(0.25)\n",
    "Q3 = df[\"Set\"].quantile(0.75)\n",
    "\n",
    "intervals = [min(df[\"Set\"]) , Q1 , Q3 , max(df[\"Set\"])]\n",
    "labels = [\"Low\" , \"Mid\" , \"High\"]\n",
    "df[\"Set\"] = pd.cut(df[\"Set\"] , intervals , labels=labels)\n",
    "df"
   ]
  },
  {
   "cell_type": "markdown",
   "metadata": {},
   "source": [
    "2. transaction are the rows for example : \n",
    "{B , bench , heavy , mid}\n",
    "and the items are the values of each column in one item Set :"
   ]
  },
  {
   "cell_type": "code",
   "execution_count": 7,
   "metadata": {},
   "outputs": [
    {
     "name": "stdout",
     "output_type": "stream",
     "text": [
      "['B', 'A', 'E', 'C', 'D', 'Z', 'bench', 'ohp', 'squat', 'dead', 'row', 'rest', 'raw', 'heavy', 'medium', 'sitting', 'standing', 'Mid', 'High', 'Low', nan]\n",
      "item length : 21\n",
      "transaction number : 8996\n"
     ]
    }
   ],
   "source": [
    "itemset =[]\n",
    "for i in df.columns :\n",
    "    for j in df[i].unique():\n",
    "        itemset.append(j)\n",
    "print(itemset)\n",
    "\n",
    "print(\"item length : \"+ str(len(itemset)))\n",
    "print(\"transaction number : \"+ str(len(df)))"
   ]
  },
  {
   "cell_type": "markdown",
   "metadata": {},
   "source": [
    "4. Build DatasetExos_2"
   ]
  },
  {
   "cell_type": "code",
   "execution_count": 8,
   "metadata": {},
   "outputs": [
    {
     "data": {
      "text/plain": [
       "Set\n",
       "Mid     4411\n",
       "Low     2245\n",
       "High    2165\n",
       "Name: count, dtype: int64"
      ]
     },
     "execution_count": 8,
     "metadata": {},
     "output_type": "execute_result"
    }
   ],
   "source": [
    "df[\"Set\"].value_counts()"
   ]
  },
  {
   "cell_type": "code",
   "execution_count": 9,
   "metadata": {},
   "outputs": [],
   "source": [
    "df.to_csv(\"ExoDataset_2.csv\")"
   ]
  },
  {
   "cell_type": "markdown",
   "metadata": {},
   "source": [
    "# PART 2 "
   ]
  },
  {
   "cell_type": "code",
   "execution_count": 10,
   "metadata": {},
   "outputs": [],
   "source": [
    "def condidat_Gen(k , itemSet=None):\n",
    "    if k==1:\n",
    "        new_itemset = itemset\n",
    "    else :\n",
    "        new_itemset =[]\n",
    "        for i in range(len(itemSet)-1):\n",
    "            for j in range(i+1 , len(itemSet)): \n",
    "                if str(itemSet[i]) != \"nan\" and str(itemSet[j]) !=\"nan\":\n",
    "                    if type(itemSet[i]) == list: \n",
    "                        new_itemset.append(list(set(itemSet[i]) | set(itemSet[j])))\n",
    "                    else :\n",
    "                        new_itemset.append([itemSet[i],itemSet[j]])\n",
    "    return new_itemset"
   ]
  },
  {
   "cell_type": "code",
   "execution_count": 11,
   "metadata": {},
   "outputs": [],
   "source": [
    "def compute_Support(df , itemSet):\n",
    "    condidat_support = {}\n",
    "    if type(itemSet[0])!=list : \n",
    "        for i in itemSet:\n",
    "            if i in df[\"ID\"].unique():\n",
    "                new_df = df[df[\"ID\"]==i]\n",
    "\n",
    "            elif i in df[\"Label\"].unique():\n",
    "                new_df = df[df[\"Label\"]==i]\n",
    "\n",
    "            elif i in df[\"Category\"].unique():\n",
    "                new_df = df[df[\"Category\"]==i]\n",
    "\n",
    "            elif i in df[\"Set\"].unique():\n",
    "                new_df = df[df[\"Set\"]==i]\n",
    "            condidat_support[i]=len(new_df)/len(df)\n",
    "    else : \n",
    "        for j in itemSet:\n",
    "            new_df=df.copy()\n",
    "            for i in j : \n",
    "                if i in df[\"ID\"].unique():\n",
    "                    new_df = new_df[new_df[\"ID\"]==i]\n",
    "\n",
    "                elif i in df[\"Label\"].unique():\n",
    "                    new_df = new_df[new_df[\"Label\"]==i]\n",
    "\n",
    "                elif i in df[\"Category\"].unique():\n",
    "                    new_df = new_df[new_df[\"Category\"]==i]\n",
    "\n",
    "                elif i in df[\"Set\"].unique():\n",
    "                    new_df = new_df[new_df[\"Set\"]==i]\n",
    "            condidat_support[str(j)]=len(new_df)/len(df)\n",
    "    return condidat_support"
   ]
  },
  {
   "cell_type": "code",
   "execution_count": 12,
   "metadata": {},
   "outputs": [],
   "source": [
    "import ast\n",
    "def remove_minSup(minSup , Support , itemset):\n",
    "    for key in Support : \n",
    "        if Support[key] < minSup : \n",
    "            try : \n",
    "                itemset.remove(ast.literal_eval(key))\n",
    "            except Exception as e:\n",
    "                itemset.remove(key)\n",
    "    return itemset"
   ]
  },
  {
   "cell_type": "code",
   "execution_count": 13,
   "metadata": {},
   "outputs": [
    {
     "name": "stdout",
     "output_type": "stream",
     "text": [
      "['A', 'E', 'C', 'bench', 'ohp', 'squat', 'dead', 'row', 'heavy', 'medium', 'Mid', 'High', 'Low']\n"
     ]
    }
   ],
   "source": [
    "min_sup =0.13\n",
    "itemCk = condidat_Gen(1)\n",
    "SupportCk = compute_Support(df , itemCk)\n",
    "Lk = remove_minSup(min_sup , SupportCk , itemCk)\n",
    "print(Lk)"
   ]
  },
  {
   "cell_type": "code",
   "execution_count": 14,
   "metadata": {},
   "outputs": [
    {
     "name": "stdout",
     "output_type": "stream",
     "text": [
      "6\n",
      "2\n",
      "0\n"
     ]
    },
    {
     "data": {
      "text/plain": [
       "['A',\n",
       " 'E',\n",
       " 'C',\n",
       " 'bench',\n",
       " 'ohp',\n",
       " 'squat',\n",
       " 'dead',\n",
       " 'row',\n",
       " 'heavy',\n",
       " 'medium',\n",
       " 'Mid',\n",
       " 'High',\n",
       " 'Low',\n",
       " ['A', 'Mid'],\n",
       " ['E', 'medium'],\n",
       " ['E', 'Mid'],\n",
       " ['dead', 'medium'],\n",
       " ['heavy', 'Mid'],\n",
       " ['medium', 'Mid'],\n",
       " ['E', 'Mid', 'medium'],\n",
       " ['E', 'Mid', 'medium']]"
      ]
     },
     "execution_count": 14,
     "metadata": {},
     "output_type": "execute_result"
    }
   ],
   "source": [
    "result =Lk\n",
    "while(len(Lk)>1):\n",
    "    itemCk = condidat_Gen(2 , Lk)\n",
    "    SupportCk = compute_Support(df , itemCk)\n",
    "    Lk = remove_minSup(min_sup , SupportCk , itemCk)\n",
    "    result +=Lk\n",
    "    print(len(Lk))\n",
    "\n",
    "result"
   ]
  }
 ],
 "metadata": {
  "kernelspec": {
   "display_name": "ven",
   "language": "python",
   "name": "python3"
  },
  "language_info": {
   "codemirror_mode": {
    "name": "ipython",
    "version": 3
   },
   "file_extension": ".py",
   "mimetype": "text/x-python",
   "name": "python",
   "nbconvert_exporter": "python",
   "pygments_lexer": "ipython3",
   "version": "3.11.9"
  }
 },
 "nbformat": 4,
 "nbformat_minor": 2
}
